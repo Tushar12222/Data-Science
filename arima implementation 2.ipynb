{
 "cells": [
  {
   "cell_type": "code",
   "execution_count": 1,
   "metadata": {},
   "outputs": [],
   "source": [
    "import pandas as pd\n",
    "import seaborn as sns\n",
    "import matplotlib.pyplot as plt\n",
    "%matplotlib inline\n",
    "import numpy as np"
   ]
  },
  {
   "cell_type": "code",
   "execution_count": 2,
   "metadata": {},
   "outputs": [],
   "source": [
    "df=pd.read_excel('AllTransactionsReport_01_01_21_to_31_12_21.xlsx')"
   ]
  },
  {
   "cell_type": "code",
   "execution_count": 3,
   "metadata": {},
   "outputs": [],
   "source": [
    "Type=list(df['Type'])"
   ]
  },
  {
   "cell_type": "code",
   "execution_count": 4,
   "metadata": {},
   "outputs": [],
   "source": [
    "sale=[]\n",
    "dates=[]\n",
    "for i,j in enumerate(Type):\n",
    "    if j=='Sale':\n",
    "        sale.append(df['Total'].iloc[i])\n",
    "        dates.append(df['Date'].iloc[i])"
   ]
  },
  {
   "cell_type": "code",
   "execution_count": 5,
   "metadata": {},
   "outputs": [],
   "source": [
    "sales=pd.DataFrame()"
   ]
  },
  {
   "cell_type": "code",
   "execution_count": 6,
   "metadata": {},
   "outputs": [],
   "source": [
    "sales['Date']=dates\n",
    "sales['Sales']=sale"
   ]
  },
  {
   "cell_type": "code",
   "execution_count": 7,
   "metadata": {},
   "outputs": [],
   "source": [
    "sales['Date']=pd.to_datetime(sales['Date'])"
   ]
  },
  {
   "cell_type": "code",
   "execution_count": 8,
   "metadata": {},
   "outputs": [
    {
     "data": {
      "text/html": [
       "<div>\n",
       "<style scoped>\n",
       "    .dataframe tbody tr th:only-of-type {\n",
       "        vertical-align: middle;\n",
       "    }\n",
       "\n",
       "    .dataframe tbody tr th {\n",
       "        vertical-align: top;\n",
       "    }\n",
       "\n",
       "    .dataframe thead th {\n",
       "        text-align: right;\n",
       "    }\n",
       "</style>\n",
       "<table border=\"1\" class=\"dataframe\">\n",
       "  <thead>\n",
       "    <tr style=\"text-align: right;\">\n",
       "      <th></th>\n",
       "      <th>Date</th>\n",
       "      <th>Sales</th>\n",
       "    </tr>\n",
       "  </thead>\n",
       "  <tbody>\n",
       "    <tr>\n",
       "      <th>0</th>\n",
       "      <td>2021-01-01</td>\n",
       "      <td>3300.0</td>\n",
       "    </tr>\n",
       "    <tr>\n",
       "      <th>1</th>\n",
       "      <td>2021-03-01</td>\n",
       "      <td>20240.0</td>\n",
       "    </tr>\n",
       "    <tr>\n",
       "      <th>2</th>\n",
       "      <td>2021-03-01</td>\n",
       "      <td>5700.0</td>\n",
       "    </tr>\n",
       "    <tr>\n",
       "      <th>3</th>\n",
       "      <td>2021-04-01</td>\n",
       "      <td>41280.0</td>\n",
       "    </tr>\n",
       "    <tr>\n",
       "      <th>4</th>\n",
       "      <td>2021-05-01</td>\n",
       "      <td>83190.0</td>\n",
       "    </tr>\n",
       "  </tbody>\n",
       "</table>\n",
       "</div>"
      ],
      "text/plain": [
       "        Date    Sales\n",
       "0 2021-01-01   3300.0\n",
       "1 2021-03-01  20240.0\n",
       "2 2021-03-01   5700.0\n",
       "3 2021-04-01  41280.0\n",
       "4 2021-05-01  83190.0"
      ]
     },
     "execution_count": 8,
     "metadata": {},
     "output_type": "execute_result"
    }
   ],
   "source": [
    "sales.head()"
   ]
  },
  {
   "cell_type": "code",
   "execution_count": 9,
   "metadata": {},
   "outputs": [
    {
     "data": {
      "text/plain": [
       "'3-2021'"
      ]
     },
     "execution_count": 9,
     "metadata": {},
     "output_type": "execute_result"
    }
   ],
   "source": [
    "str(sales['Date'][1].month)+'-'+str(sales['Date'][1].year)"
   ]
  },
  {
   "cell_type": "code",
   "execution_count": 10,
   "metadata": {},
   "outputs": [],
   "source": [
    "monthwise=[]\n",
    "s=0\n",
    "for m in range(1,13):\n",
    "    for i,j in enumerate(sales['Date']):\n",
    "        l=sales['Date'][i].month\n",
    "        if l==m:\n",
    "            s=s+sales['Sales'].iloc[i]\n",
    "    monthwise.append(s)\n",
    "    s=0\n",
    "            \n",
    "        \n",
    "\n",
    "    "
   ]
  },
  {
   "cell_type": "code",
   "execution_count": 11,
   "metadata": {},
   "outputs": [
    {
     "data": {
      "text/plain": [
       "[570881.0,\n",
       " 339843.0,\n",
       " 299564.0,\n",
       " 443315.0,\n",
       " 457616.0,\n",
       " 576618.0,\n",
       " 463216.0,\n",
       " 472102.0,\n",
       " 754251.0,\n",
       " 718864.0,\n",
       " 605998.0,\n",
       " 586972.0]"
      ]
     },
     "execution_count": 11,
     "metadata": {},
     "output_type": "execute_result"
    }
   ],
   "source": [
    "monthwise"
   ]
  },
  {
   "cell_type": "code",
   "execution_count": 12,
   "metadata": {},
   "outputs": [],
   "source": [
    "date=[]\n",
    "for i in range(1,13):\n",
    "    \n",
    "    d='2021/'+str(i)\n",
    "    \n",
    "    date.append(d)"
   ]
  },
  {
   "cell_type": "code",
   "execution_count": 13,
   "metadata": {},
   "outputs": [
    {
     "data": {
      "text/plain": [
       "['2021/1',\n",
       " '2021/2',\n",
       " '2021/3',\n",
       " '2021/4',\n",
       " '2021/5',\n",
       " '2021/6',\n",
       " '2021/7',\n",
       " '2021/8',\n",
       " '2021/9',\n",
       " '2021/10',\n",
       " '2021/11',\n",
       " '2021/12']"
      ]
     },
     "execution_count": 13,
     "metadata": {},
     "output_type": "execute_result"
    }
   ],
   "source": [
    "date"
   ]
  },
  {
   "cell_type": "code",
   "execution_count": 14,
   "metadata": {},
   "outputs": [],
   "source": [
    "Sale=pd.DataFrame()"
   ]
  },
  {
   "cell_type": "code",
   "execution_count": 15,
   "metadata": {},
   "outputs": [],
   "source": [
    "Sale['Date']=pd.to_datetime(date)"
   ]
  },
  {
   "cell_type": "code",
   "execution_count": 16,
   "metadata": {},
   "outputs": [],
   "source": [
    "Sale['Sales']=monthwise"
   ]
  },
  {
   "cell_type": "code",
   "execution_count": 17,
   "metadata": {},
   "outputs": [
    {
     "data": {
      "text/html": [
       "<div>\n",
       "<style scoped>\n",
       "    .dataframe tbody tr th:only-of-type {\n",
       "        vertical-align: middle;\n",
       "    }\n",
       "\n",
       "    .dataframe tbody tr th {\n",
       "        vertical-align: top;\n",
       "    }\n",
       "\n",
       "    .dataframe thead th {\n",
       "        text-align: right;\n",
       "    }\n",
       "</style>\n",
       "<table border=\"1\" class=\"dataframe\">\n",
       "  <thead>\n",
       "    <tr style=\"text-align: right;\">\n",
       "      <th></th>\n",
       "      <th>Date</th>\n",
       "      <th>Sales</th>\n",
       "    </tr>\n",
       "  </thead>\n",
       "  <tbody>\n",
       "    <tr>\n",
       "      <th>0</th>\n",
       "      <td>2021-01-01</td>\n",
       "      <td>570881.0</td>\n",
       "    </tr>\n",
       "    <tr>\n",
       "      <th>1</th>\n",
       "      <td>2021-02-01</td>\n",
       "      <td>339843.0</td>\n",
       "    </tr>\n",
       "    <tr>\n",
       "      <th>2</th>\n",
       "      <td>2021-03-01</td>\n",
       "      <td>299564.0</td>\n",
       "    </tr>\n",
       "    <tr>\n",
       "      <th>3</th>\n",
       "      <td>2021-04-01</td>\n",
       "      <td>443315.0</td>\n",
       "    </tr>\n",
       "    <tr>\n",
       "      <th>4</th>\n",
       "      <td>2021-05-01</td>\n",
       "      <td>457616.0</td>\n",
       "    </tr>\n",
       "    <tr>\n",
       "      <th>5</th>\n",
       "      <td>2021-06-01</td>\n",
       "      <td>576618.0</td>\n",
       "    </tr>\n",
       "    <tr>\n",
       "      <th>6</th>\n",
       "      <td>2021-07-01</td>\n",
       "      <td>463216.0</td>\n",
       "    </tr>\n",
       "    <tr>\n",
       "      <th>7</th>\n",
       "      <td>2021-08-01</td>\n",
       "      <td>472102.0</td>\n",
       "    </tr>\n",
       "    <tr>\n",
       "      <th>8</th>\n",
       "      <td>2021-09-01</td>\n",
       "      <td>754251.0</td>\n",
       "    </tr>\n",
       "    <tr>\n",
       "      <th>9</th>\n",
       "      <td>2021-10-01</td>\n",
       "      <td>718864.0</td>\n",
       "    </tr>\n",
       "    <tr>\n",
       "      <th>10</th>\n",
       "      <td>2021-11-01</td>\n",
       "      <td>605998.0</td>\n",
       "    </tr>\n",
       "    <tr>\n",
       "      <th>11</th>\n",
       "      <td>2021-12-01</td>\n",
       "      <td>586972.0</td>\n",
       "    </tr>\n",
       "  </tbody>\n",
       "</table>\n",
       "</div>"
      ],
      "text/plain": [
       "         Date     Sales\n",
       "0  2021-01-01  570881.0\n",
       "1  2021-02-01  339843.0\n",
       "2  2021-03-01  299564.0\n",
       "3  2021-04-01  443315.0\n",
       "4  2021-05-01  457616.0\n",
       "5  2021-06-01  576618.0\n",
       "6  2021-07-01  463216.0\n",
       "7  2021-08-01  472102.0\n",
       "8  2021-09-01  754251.0\n",
       "9  2021-10-01  718864.0\n",
       "10 2021-11-01  605998.0\n",
       "11 2021-12-01  586972.0"
      ]
     },
     "execution_count": 17,
     "metadata": {},
     "output_type": "execute_result"
    }
   ],
   "source": [
    "Sale"
   ]
  },
  {
   "cell_type": "code",
   "execution_count": 18,
   "metadata": {},
   "outputs": [
    {
     "data": {
      "text/plain": [
       "4"
      ]
     },
     "execution_count": 18,
     "metadata": {},
     "output_type": "execute_result"
    }
   ],
   "source": [
    "Sale['Date'][3].month"
   ]
  },
  {
   "cell_type": "code",
   "execution_count": 19,
   "metadata": {},
   "outputs": [],
   "source": [
    "change_format=Sale['Date'].dt.strftime('%d/%m/%Y')"
   ]
  },
  {
   "cell_type": "code",
   "execution_count": 20,
   "metadata": {},
   "outputs": [],
   "source": [
    "Sale['Date']=change_format"
   ]
  },
  {
   "cell_type": "code",
   "execution_count": 21,
   "metadata": {},
   "outputs": [
    {
     "data": {
      "text/html": [
       "<div>\n",
       "<style scoped>\n",
       "    .dataframe tbody tr th:only-of-type {\n",
       "        vertical-align: middle;\n",
       "    }\n",
       "\n",
       "    .dataframe tbody tr th {\n",
       "        vertical-align: top;\n",
       "    }\n",
       "\n",
       "    .dataframe thead th {\n",
       "        text-align: right;\n",
       "    }\n",
       "</style>\n",
       "<table border=\"1\" class=\"dataframe\">\n",
       "  <thead>\n",
       "    <tr style=\"text-align: right;\">\n",
       "      <th></th>\n",
       "      <th>Date</th>\n",
       "      <th>Sales</th>\n",
       "    </tr>\n",
       "  </thead>\n",
       "  <tbody>\n",
       "    <tr>\n",
       "      <th>0</th>\n",
       "      <td>01/01/2021</td>\n",
       "      <td>570881.0</td>\n",
       "    </tr>\n",
       "    <tr>\n",
       "      <th>1</th>\n",
       "      <td>01/02/2021</td>\n",
       "      <td>339843.0</td>\n",
       "    </tr>\n",
       "    <tr>\n",
       "      <th>2</th>\n",
       "      <td>01/03/2021</td>\n",
       "      <td>299564.0</td>\n",
       "    </tr>\n",
       "    <tr>\n",
       "      <th>3</th>\n",
       "      <td>01/04/2021</td>\n",
       "      <td>443315.0</td>\n",
       "    </tr>\n",
       "    <tr>\n",
       "      <th>4</th>\n",
       "      <td>01/05/2021</td>\n",
       "      <td>457616.0</td>\n",
       "    </tr>\n",
       "    <tr>\n",
       "      <th>5</th>\n",
       "      <td>01/06/2021</td>\n",
       "      <td>576618.0</td>\n",
       "    </tr>\n",
       "    <tr>\n",
       "      <th>6</th>\n",
       "      <td>01/07/2021</td>\n",
       "      <td>463216.0</td>\n",
       "    </tr>\n",
       "    <tr>\n",
       "      <th>7</th>\n",
       "      <td>01/08/2021</td>\n",
       "      <td>472102.0</td>\n",
       "    </tr>\n",
       "    <tr>\n",
       "      <th>8</th>\n",
       "      <td>01/09/2021</td>\n",
       "      <td>754251.0</td>\n",
       "    </tr>\n",
       "    <tr>\n",
       "      <th>9</th>\n",
       "      <td>01/10/2021</td>\n",
       "      <td>718864.0</td>\n",
       "    </tr>\n",
       "    <tr>\n",
       "      <th>10</th>\n",
       "      <td>01/11/2021</td>\n",
       "      <td>605998.0</td>\n",
       "    </tr>\n",
       "    <tr>\n",
       "      <th>11</th>\n",
       "      <td>01/12/2021</td>\n",
       "      <td>586972.0</td>\n",
       "    </tr>\n",
       "  </tbody>\n",
       "</table>\n",
       "</div>"
      ],
      "text/plain": [
       "          Date     Sales\n",
       "0   01/01/2021  570881.0\n",
       "1   01/02/2021  339843.0\n",
       "2   01/03/2021  299564.0\n",
       "3   01/04/2021  443315.0\n",
       "4   01/05/2021  457616.0\n",
       "5   01/06/2021  576618.0\n",
       "6   01/07/2021  463216.0\n",
       "7   01/08/2021  472102.0\n",
       "8   01/09/2021  754251.0\n",
       "9   01/10/2021  718864.0\n",
       "10  01/11/2021  605998.0\n",
       "11  01/12/2021  586972.0"
      ]
     },
     "execution_count": 21,
     "metadata": {},
     "output_type": "execute_result"
    }
   ],
   "source": [
    "Sale"
   ]
  },
  {
   "cell_type": "code",
   "execution_count": 22,
   "metadata": {},
   "outputs": [],
   "source": [
    "Sale=Sale.set_index('Date')"
   ]
  },
  {
   "cell_type": "code",
   "execution_count": 23,
   "metadata": {},
   "outputs": [
    {
     "data": {
      "text/html": [
       "<div>\n",
       "<style scoped>\n",
       "    .dataframe tbody tr th:only-of-type {\n",
       "        vertical-align: middle;\n",
       "    }\n",
       "\n",
       "    .dataframe tbody tr th {\n",
       "        vertical-align: top;\n",
       "    }\n",
       "\n",
       "    .dataframe thead th {\n",
       "        text-align: right;\n",
       "    }\n",
       "</style>\n",
       "<table border=\"1\" class=\"dataframe\">\n",
       "  <thead>\n",
       "    <tr style=\"text-align: right;\">\n",
       "      <th></th>\n",
       "      <th>Sales</th>\n",
       "    </tr>\n",
       "    <tr>\n",
       "      <th>Date</th>\n",
       "      <th></th>\n",
       "    </tr>\n",
       "  </thead>\n",
       "  <tbody>\n",
       "    <tr>\n",
       "      <th>01/01/2021</th>\n",
       "      <td>570881.0</td>\n",
       "    </tr>\n",
       "    <tr>\n",
       "      <th>01/02/2021</th>\n",
       "      <td>339843.0</td>\n",
       "    </tr>\n",
       "    <tr>\n",
       "      <th>01/03/2021</th>\n",
       "      <td>299564.0</td>\n",
       "    </tr>\n",
       "    <tr>\n",
       "      <th>01/04/2021</th>\n",
       "      <td>443315.0</td>\n",
       "    </tr>\n",
       "    <tr>\n",
       "      <th>01/05/2021</th>\n",
       "      <td>457616.0</td>\n",
       "    </tr>\n",
       "    <tr>\n",
       "      <th>01/06/2021</th>\n",
       "      <td>576618.0</td>\n",
       "    </tr>\n",
       "    <tr>\n",
       "      <th>01/07/2021</th>\n",
       "      <td>463216.0</td>\n",
       "    </tr>\n",
       "    <tr>\n",
       "      <th>01/08/2021</th>\n",
       "      <td>472102.0</td>\n",
       "    </tr>\n",
       "    <tr>\n",
       "      <th>01/09/2021</th>\n",
       "      <td>754251.0</td>\n",
       "    </tr>\n",
       "    <tr>\n",
       "      <th>01/10/2021</th>\n",
       "      <td>718864.0</td>\n",
       "    </tr>\n",
       "    <tr>\n",
       "      <th>01/11/2021</th>\n",
       "      <td>605998.0</td>\n",
       "    </tr>\n",
       "    <tr>\n",
       "      <th>01/12/2021</th>\n",
       "      <td>586972.0</td>\n",
       "    </tr>\n",
       "  </tbody>\n",
       "</table>\n",
       "</div>"
      ],
      "text/plain": [
       "               Sales\n",
       "Date                \n",
       "01/01/2021  570881.0\n",
       "01/02/2021  339843.0\n",
       "01/03/2021  299564.0\n",
       "01/04/2021  443315.0\n",
       "01/05/2021  457616.0\n",
       "01/06/2021  576618.0\n",
       "01/07/2021  463216.0\n",
       "01/08/2021  472102.0\n",
       "01/09/2021  754251.0\n",
       "01/10/2021  718864.0\n",
       "01/11/2021  605998.0\n",
       "01/12/2021  586972.0"
      ]
     },
     "execution_count": 23,
     "metadata": {},
     "output_type": "execute_result"
    }
   ],
   "source": [
    "Sale"
   ]
  },
  {
   "cell_type": "code",
   "execution_count": 24,
   "metadata": {},
   "outputs": [],
   "source": [
    "Sale=Sale.squeeze()"
   ]
  },
  {
   "cell_type": "code",
   "execution_count": 25,
   "metadata": {},
   "outputs": [
    {
     "data": {
      "text/plain": [
       "Date\n",
       "01/01/2021    570881.0\n",
       "01/02/2021    339843.0\n",
       "01/03/2021    299564.0\n",
       "01/04/2021    443315.0\n",
       "01/05/2021    457616.0\n",
       "01/06/2021    576618.0\n",
       "01/07/2021    463216.0\n",
       "01/08/2021    472102.0\n",
       "01/09/2021    754251.0\n",
       "01/10/2021    718864.0\n",
       "01/11/2021    605998.0\n",
       "01/12/2021    586972.0\n",
       "Name: Sales, dtype: float64"
      ]
     },
     "execution_count": 25,
     "metadata": {},
     "output_type": "execute_result"
    }
   ],
   "source": [
    "Sale"
   ]
  },
  {
   "cell_type": "code",
   "execution_count": 26,
   "metadata": {},
   "outputs": [
    {
     "data": {
      "text/plain": [
       "<matplotlib.axes._subplots.AxesSubplot at 0x1e42a0dbe48>"
      ]
     },
     "execution_count": 26,
     "metadata": {},
     "output_type": "execute_result"
    },
    {
     "data": {
      "image/png": "[encoded data removed]",
      "text/plain": [
       "<Figure size 432x288 with 1 Axes>"
      ]
     },
     "metadata": {
      "needs_background": "light"
     },
     "output_type": "display_data"
    }
   ],
   "source": [
    "Sale.plot()"
   ]
  },
  {
   "cell_type": "code",
   "execution_count": 27,
   "metadata": {},
   "outputs": [
    {
     "data": {
      "text/plain": [
       "count        12.000000\n",
       "mean     524103.333333\n",
       "std      137587.433597\n",
       "min      299564.000000\n",
       "25%      454040.750000\n",
       "50%      521491.500000\n",
       "75%      591728.500000\n",
       "max      754251.000000\n",
       "Name: Sales, dtype: float64"
      ]
     },
     "execution_count": 27,
     "metadata": {},
     "output_type": "execute_result"
    }
   ],
   "source": [
    "Sale.describe()"
   ]
  },
  {
   "cell_type": "code",
   "execution_count": 28,
   "metadata": {},
   "outputs": [],
   "source": [
    "Sale_ma=Sale.rolling(window=6).mean()"
   ]
  },
  {
   "cell_type": "code",
   "execution_count": 29,
   "metadata": {},
   "outputs": [
    {
     "data": {
      "text/plain": [
       "<matplotlib.axes._subplots.AxesSubplot at 0x1e42c229688>"
      ]
     },
     "execution_count": 29,
     "metadata": {},
     "output_type": "execute_result"
    },
    {
     "data": {
      "image/png": "[encoded data removed]",
      "text/plain": [
       "<Figure size 432x288 with 1 Axes>"
      ]
     },
     "metadata": {
      "needs_background": "light"
     },
     "output_type": "display_data"
    }
   ],
   "source": [
    "Sale_ma.plot()"
   ]
  },
  {
   "cell_type": "code",
   "execution_count": 30,
   "metadata": {},
   "outputs": [],
   "source": [
    "Sale_base=pd.concat([Sale,Sale.shift(1)],axis=1)"
   ]
  },
  {
   "cell_type": "code",
   "execution_count": 31,
   "metadata": {},
   "outputs": [
    {
     "data": {
      "text/html": [
       "<div>\n",
       "<style scoped>\n",
       "    .dataframe tbody tr th:only-of-type {\n",
       "        vertical-align: middle;\n",
       "    }\n",
       "\n",
       "    .dataframe tbody tr th {\n",
       "        vertical-align: top;\n",
       "    }\n",
       "\n",
       "    .dataframe thead th {\n",
       "        text-align: right;\n",
       "    }\n",
       "</style>\n",
       "<table border=\"1\" class=\"dataframe\">\n",
       "  <thead>\n",
       "    <tr style=\"text-align: right;\">\n",
       "      <th></th>\n",
       "      <th>Sales</th>\n",
       "      <th>Sales</th>\n",
       "    </tr>\n",
       "    <tr>\n",
       "      <th>Date</th>\n",
       "      <th></th>\n",
       "      <th></th>\n",
       "    </tr>\n",
       "  </thead>\n",
       "  <tbody>\n",
       "    <tr>\n",
       "      <th>01/01/2021</th>\n",
       "      <td>570881.0</td>\n",
       "      <td>NaN</td>\n",
       "    </tr>\n",
       "    <tr>\n",
       "      <th>01/02/2021</th>\n",
       "      <td>339843.0</td>\n",
       "      <td>570881.0</td>\n",
       "    </tr>\n",
       "    <tr>\n",
       "      <th>01/03/2021</th>\n",
       "      <td>299564.0</td>\n",
       "      <td>339843.0</td>\n",
       "    </tr>\n",
       "    <tr>\n",
       "      <th>01/04/2021</th>\n",
       "      <td>443315.0</td>\n",
       "      <td>299564.0</td>\n",
       "    </tr>\n",
       "    <tr>\n",
       "      <th>01/05/2021</th>\n",
       "      <td>457616.0</td>\n",
       "      <td>443315.0</td>\n",
       "    </tr>\n",
       "    <tr>\n",
       "      <th>01/06/2021</th>\n",
       "      <td>576618.0</td>\n",
       "      <td>457616.0</td>\n",
       "    </tr>\n",
       "    <tr>\n",
       "      <th>01/07/2021</th>\n",
       "      <td>463216.0</td>\n",
       "      <td>576618.0</td>\n",
       "    </tr>\n",
       "    <tr>\n",
       "      <th>01/08/2021</th>\n",
       "      <td>472102.0</td>\n",
       "      <td>463216.0</td>\n",
       "    </tr>\n",
       "    <tr>\n",
       "      <th>01/09/2021</th>\n",
       "      <td>754251.0</td>\n",
       "      <td>472102.0</td>\n",
       "    </tr>\n",
       "    <tr>\n",
       "      <th>01/10/2021</th>\n",
       "      <td>718864.0</td>\n",
       "      <td>754251.0</td>\n",
       "    </tr>\n",
       "    <tr>\n",
       "      <th>01/11/2021</th>\n",
       "      <td>605998.0</td>\n",
       "      <td>718864.0</td>\n",
       "    </tr>\n",
       "    <tr>\n",
       "      <th>01/12/2021</th>\n",
       "      <td>586972.0</td>\n",
       "      <td>605998.0</td>\n",
       "    </tr>\n",
       "  </tbody>\n",
       "</table>\n",
       "</div>"
      ],
      "text/plain": [
       "               Sales     Sales\n",
       "Date                          \n",
       "01/01/2021  570881.0       NaN\n",
       "01/02/2021  339843.0  570881.0\n",
       "01/03/2021  299564.0  339843.0\n",
       "01/04/2021  443315.0  299564.0\n",
       "01/05/2021  457616.0  443315.0\n",
       "01/06/2021  576618.0  457616.0\n",
       "01/07/2021  463216.0  576618.0\n",
       "01/08/2021  472102.0  463216.0\n",
       "01/09/2021  754251.0  472102.0\n",
       "01/10/2021  718864.0  754251.0\n",
       "01/11/2021  605998.0  718864.0\n",
       "01/12/2021  586972.0  605998.0"
      ]
     },
     "execution_count": 31,
     "metadata": {},
     "output_type": "execute_result"
    }
   ],
   "source": [
    "Sale_base"
   ]
  },
  {
   "cell_type": "code",
   "execution_count": 32,
   "metadata": {},
   "outputs": [],
   "source": [
    "Sale_base.columns=['Actual','Forecast']"
   ]
  },
  {
   "cell_type": "code",
   "execution_count": 33,
   "metadata": {},
   "outputs": [],
   "source": [
    "Sale_base.dropna(inplace=True)"
   ]
  },
  {
   "cell_type": "code",
   "execution_count": 34,
   "metadata": {},
   "outputs": [],
   "source": [
    "from sklearn.metrics import mean_squared_error\n"
   ]
  },
  {
   "cell_type": "code",
   "execution_count": 35,
   "metadata": {},
   "outputs": [],
   "source": [
    "Sale_error=mean_squared_error(Sale_base.Actual,Sale_base.Forecast)"
   ]
  },
  {
   "cell_type": "code",
   "execution_count": 36,
   "metadata": {},
   "outputs": [
    {
     "data": {
      "text/plain": [
       "17902845008.454544"
      ]
     },
     "execution_count": 36,
     "metadata": {},
     "output_type": "execute_result"
    }
   ],
   "source": [
    "Sale_error"
   ]
  },
  {
   "cell_type": "code",
   "execution_count": 37,
   "metadata": {},
   "outputs": [
    {
     "data": {
      "text/plain": [
       "133801.51347594894"
      ]
     },
     "execution_count": 37,
     "metadata": {},
     "output_type": "execute_result"
    }
   ],
   "source": [
    "np.sqrt(Sale_error)"
   ]
  },
  {
   "cell_type": "code",
   "execution_count": 38,
   "metadata": {},
   "outputs": [],
   "source": [
    "from statsmodels.graphics.tsaplots import plot_acf,plot_pacf"
   ]
  },
  {
   "cell_type": "code",
   "execution_count": 39,
   "metadata": {},
   "outputs": [
    {
     "data": {
      "image/png": "[encoded data removed]",
      "text/plain": [
       "<Figure size 432x288 with 1 Axes>"
      ]
     },
     "execution_count": 39,
     "metadata": {},
     "output_type": "execute_result"
    },
    {
     "data": {
      "image/png": "[encoded data removed]",
      "text/plain": [
       "<Figure size 432x288 with 1 Axes>"
      ]
     },
     "metadata": {
      "needs_background": "light"
     },
     "output_type": "display_data"
    }
   ],
   "source": [
    "plot_acf(Sale)"
   ]
  },
  {
   "cell_type": "code",
   "execution_count": 40,
   "metadata": {},
   "outputs": [
    {
     "data": {
      "text/plain": [
       "Date\n",
       "01/01/2021    570881.0\n",
       "01/02/2021    339843.0\n",
       "01/03/2021    299564.0\n",
       "01/04/2021    443315.0\n",
       "01/05/2021    457616.0\n",
       "01/06/2021    576618.0\n",
       "01/07/2021    463216.0\n",
       "01/08/2021    472102.0\n",
       "01/09/2021    754251.0\n",
       "01/10/2021    718864.0\n",
       "01/11/2021    605998.0\n",
       "01/12/2021    586972.0\n",
       "Name: Sales, dtype: float64"
      ]
     },
     "execution_count": 40,
     "metadata": {},
     "output_type": "execute_result"
    }
   ],
   "source": [
    "Sale"
   ]
  },
  {
   "cell_type": "code",
   "execution_count": 41,
   "metadata": {},
   "outputs": [],
   "source": [
    "Sale=pd.to_numeric(Sale)"
   ]
  },
  {
   "cell_type": "code",
   "execution_count": 42,
   "metadata": {},
   "outputs": [],
   "source": [
    "Sale=pd.DataFrame(Sale)"
   ]
  },
  {
   "cell_type": "code",
   "execution_count": 43,
   "metadata": {},
   "outputs": [
    {
     "data": {
      "text/html": [
       "<div>\n",
       "<style scoped>\n",
       "    .dataframe tbody tr th:only-of-type {\n",
       "        vertical-align: middle;\n",
       "    }\n",
       "\n",
       "    .dataframe tbody tr th {\n",
       "        vertical-align: top;\n",
       "    }\n",
       "\n",
       "    .dataframe thead th {\n",
       "        text-align: right;\n",
       "    }\n",
       "</style>\n",
       "<table border=\"1\" class=\"dataframe\">\n",
       "  <thead>\n",
       "    <tr style=\"text-align: right;\">\n",
       "      <th></th>\n",
       "      <th>Sales</th>\n",
       "    </tr>\n",
       "    <tr>\n",
       "      <th>Date</th>\n",
       "      <th></th>\n",
       "    </tr>\n",
       "  </thead>\n",
       "  <tbody>\n",
       "    <tr>\n",
       "      <th>01/01/2021</th>\n",
       "      <td>570881.0</td>\n",
       "    </tr>\n",
       "    <tr>\n",
       "      <th>01/02/2021</th>\n",
       "      <td>339843.0</td>\n",
       "    </tr>\n",
       "    <tr>\n",
       "      <th>01/03/2021</th>\n",
       "      <td>299564.0</td>\n",
       "    </tr>\n",
       "    <tr>\n",
       "      <th>01/04/2021</th>\n",
       "      <td>443315.0</td>\n",
       "    </tr>\n",
       "    <tr>\n",
       "      <th>01/05/2021</th>\n",
       "      <td>457616.0</td>\n",
       "    </tr>\n",
       "    <tr>\n",
       "      <th>01/06/2021</th>\n",
       "      <td>576618.0</td>\n",
       "    </tr>\n",
       "    <tr>\n",
       "      <th>01/07/2021</th>\n",
       "      <td>463216.0</td>\n",
       "    </tr>\n",
       "    <tr>\n",
       "      <th>01/08/2021</th>\n",
       "      <td>472102.0</td>\n",
       "    </tr>\n",
       "    <tr>\n",
       "      <th>01/09/2021</th>\n",
       "      <td>754251.0</td>\n",
       "    </tr>\n",
       "    <tr>\n",
       "      <th>01/10/2021</th>\n",
       "      <td>718864.0</td>\n",
       "    </tr>\n",
       "    <tr>\n",
       "      <th>01/11/2021</th>\n",
       "      <td>605998.0</td>\n",
       "    </tr>\n",
       "    <tr>\n",
       "      <th>01/12/2021</th>\n",
       "      <td>586972.0</td>\n",
       "    </tr>\n",
       "  </tbody>\n",
       "</table>\n",
       "</div>"
      ],
      "text/plain": [
       "               Sales\n",
       "Date                \n",
       "01/01/2021  570881.0\n",
       "01/02/2021  339843.0\n",
       "01/03/2021  299564.0\n",
       "01/04/2021  443315.0\n",
       "01/05/2021  457616.0\n",
       "01/06/2021  576618.0\n",
       "01/07/2021  463216.0\n",
       "01/08/2021  472102.0\n",
       "01/09/2021  754251.0\n",
       "01/10/2021  718864.0\n",
       "01/11/2021  605998.0\n",
       "01/12/2021  586972.0"
      ]
     },
     "execution_count": 43,
     "metadata": {},
     "output_type": "execute_result"
    }
   ],
   "source": [
    "Sale"
   ]
  },
  {
   "cell_type": "code",
   "execution_count": 44,
   "metadata": {},
   "outputs": [
    {
     "data": {
      "text/html": [
       "<div>\n",
       "<style scoped>\n",
       "    .dataframe tbody tr th:only-of-type {\n",
       "        vertical-align: middle;\n",
       "    }\n",
       "\n",
       "    .dataframe tbody tr th {\n",
       "        vertical-align: top;\n",
       "    }\n",
       "\n",
       "    .dataframe thead th {\n",
       "        text-align: right;\n",
       "    }\n",
       "</style>\n",
       "<table border=\"1\" class=\"dataframe\">\n",
       "  <thead>\n",
       "    <tr style=\"text-align: right;\">\n",
       "      <th></th>\n",
       "      <th>Sales</th>\n",
       "    </tr>\n",
       "    <tr>\n",
       "      <th>Date</th>\n",
       "      <th></th>\n",
       "    </tr>\n",
       "  </thead>\n",
       "  <tbody>\n",
       "    <tr>\n",
       "      <th>01/01/2021</th>\n",
       "      <td>570881.0</td>\n",
       "    </tr>\n",
       "    <tr>\n",
       "      <th>01/02/2021</th>\n",
       "      <td>339843.0</td>\n",
       "    </tr>\n",
       "    <tr>\n",
       "      <th>01/03/2021</th>\n",
       "      <td>299564.0</td>\n",
       "    </tr>\n",
       "    <tr>\n",
       "      <th>01/04/2021</th>\n",
       "      <td>443315.0</td>\n",
       "    </tr>\n",
       "    <tr>\n",
       "      <th>01/05/2021</th>\n",
       "      <td>457616.0</td>\n",
       "    </tr>\n",
       "  </tbody>\n",
       "</table>\n",
       "</div>"
      ],
      "text/plain": [
       "               Sales\n",
       "Date                \n",
       "01/01/2021  570881.0\n",
       "01/02/2021  339843.0\n",
       "01/03/2021  299564.0\n",
       "01/04/2021  443315.0\n",
       "01/05/2021  457616.0"
      ]
     },
     "execution_count": 44,
     "metadata": {},
     "output_type": "execute_result"
    }
   ],
   "source": [
    "Sale.head()"
   ]
  },
  {
   "cell_type": "code",
   "execution_count": 45,
   "metadata": {},
   "outputs": [
    {
     "name": "stdout",
     "output_type": "stream",
     "text": [
      "<class 'pandas.core.frame.DataFrame'>\n",
      "Index: 12 entries, 01/01/2021 to 01/12/2021\n",
      "Data columns (total 1 columns):\n",
      " #   Column  Non-Null Count  Dtype  \n",
      "---  ------  --------------  -----  \n",
      " 0   Sales   12 non-null     float64\n",
      "dtypes: float64(1)\n",
      "memory usage: 512.0+ bytes\n"
     ]
    }
   ],
   "source": [
    "Sale.info()"
   ]
  },
  {
   "cell_type": "code",
   "execution_count": 46,
   "metadata": {},
   "outputs": [
    {
     "data": {
      "text/html": [
       "<div>\n",
       "<style scoped>\n",
       "    .dataframe tbody tr th:only-of-type {\n",
       "        vertical-align: middle;\n",
       "    }\n",
       "\n",
       "    .dataframe tbody tr th {\n",
       "        vertical-align: top;\n",
       "    }\n",
       "\n",
       "    .dataframe thead th {\n",
       "        text-align: right;\n",
       "    }\n",
       "</style>\n",
       "<table border=\"1\" class=\"dataframe\">\n",
       "  <thead>\n",
       "    <tr style=\"text-align: right;\">\n",
       "      <th></th>\n",
       "      <th>Sales</th>\n",
       "    </tr>\n",
       "    <tr>\n",
       "      <th>Date</th>\n",
       "      <th></th>\n",
       "    </tr>\n",
       "  </thead>\n",
       "  <tbody>\n",
       "    <tr>\n",
       "      <th>01/08/2021</th>\n",
       "      <td>472102.0</td>\n",
       "    </tr>\n",
       "    <tr>\n",
       "      <th>01/09/2021</th>\n",
       "      <td>754251.0</td>\n",
       "    </tr>\n",
       "    <tr>\n",
       "      <th>01/10/2021</th>\n",
       "      <td>718864.0</td>\n",
       "    </tr>\n",
       "    <tr>\n",
       "      <th>01/11/2021</th>\n",
       "      <td>605998.0</td>\n",
       "    </tr>\n",
       "    <tr>\n",
       "      <th>01/12/2021</th>\n",
       "      <td>586972.0</td>\n",
       "    </tr>\n",
       "  </tbody>\n",
       "</table>\n",
       "</div>"
      ],
      "text/plain": [
       "               Sales\n",
       "Date                \n",
       "01/08/2021  472102.0\n",
       "01/09/2021  754251.0\n",
       "01/10/2021  718864.0\n",
       "01/11/2021  605998.0\n",
       "01/12/2021  586972.0"
      ]
     },
     "execution_count": 46,
     "metadata": {},
     "output_type": "execute_result"
    }
   ],
   "source": [
    "Sale.tail()"
   ]
  },
  {
   "cell_type": "code",
   "execution_count": 47,
   "metadata": {},
   "outputs": [],
   "source": [
    "from pmdarima import auto_arima\n",
    "import warnings\n",
    "warnings.filterwarnings('ignore')"
   ]
  },
  {
   "cell_type": "code",
   "execution_count": 48,
   "metadata": {},
   "outputs": [
    {
     "name": "stdout",
     "output_type": "stream",
     "text": [
      "Performing stepwise search to minimize aic\n",
      " ARIMA(2,0,2)(0,0,0)[0] intercept   : AIC=inf, Time=0.66 sec\n",
      " ARIMA(0,0,0)(0,0,0)[0] intercept   : AIC=320.979, Time=0.00 sec\n",
      " ARIMA(1,0,0)(0,0,0)[0] intercept   : AIC=319.541, Time=0.01 sec\n",
      " ARIMA(0,0,1)(0,0,0)[0] intercept   : AIC=317.152, Time=0.02 sec\n",
      " ARIMA(0,0,0)(0,0,0)[0]             : AIC=352.856, Time=0.00 sec\n",
      " ARIMA(1,0,1)(0,0,0)[0] intercept   : AIC=319.779, Time=0.03 sec\n",
      " ARIMA(0,0,2)(0,0,0)[0] intercept   : AIC=inf, Time=0.04 sec\n",
      " ARIMA(1,0,2)(0,0,0)[0] intercept   : AIC=inf, Time=0.04 sec\n",
      " ARIMA(0,0,1)(0,0,0)[0]             : AIC=348.886, Time=0.02 sec\n",
      "\n",
      "Best model:  ARIMA(0,0,1)(0,0,0)[0] intercept\n",
      "Total fit time: 0.936 seconds\n"
     ]
    },
    {
     "data": {
      "text/html": [
       "<table class=\"simpletable\">\n",
       "<caption>SARIMAX Results</caption>\n",
       "<tr>\n",
       "  <th>Dep. Variable:</th>           <td>y</td>        <th>  No. Observations:  </th>    <td>12</td>   \n",
       "</tr>\n",
       "<tr>\n",
       "  <th>Model:</th>           <td>SARIMAX(0, 0, 1)</td> <th>  Log Likelihood     </th> <td>-155.576</td>\n",
       "</tr>\n",
       "<tr>\n",
       "  <th>Date:</th>            <td>Thu, 06 Jan 2022</td> <th>  AIC                </th>  <td>317.152</td>\n",
       "</tr>\n",
       "<tr>\n",
       "  <th>Time:</th>                <td>21:04:25</td>     <th>  BIC                </th>  <td>318.607</td>\n",
       "</tr>\n",
       "<tr>\n",
       "  <th>Sample:</th>                  <td>0</td>        <th>  HQIC               </th>  <td>316.614</td>\n",
       "</tr>\n",
       "<tr>\n",
       "  <th></th>                       <td> - 12</td>      <th>                     </th>     <td> </td>   \n",
       "</tr>\n",
       "<tr>\n",
       "  <th>Covariance Type:</th>        <td>opg</td>       <th>                     </th>     <td> </td>   \n",
       "</tr>\n",
       "</table>\n",
       "<table class=\"simpletable\">\n",
       "<tr>\n",
       "      <td></td>         <th>coef</th>     <th>std err</th>      <th>z</th>      <th>P>|z|</th>  <th>[0.025</th>    <th>0.975]</th>  \n",
       "</tr>\n",
       "<tr>\n",
       "  <th>intercept</th> <td> 5.597e+05</td> <td> 6.69e+04</td> <td>    8.369</td> <td> 0.000</td> <td> 4.29e+05</td> <td> 6.91e+05</td>\n",
       "</tr>\n",
       "<tr>\n",
       "  <th>ma.L1</th>     <td>    0.9194</td> <td>    0.467</td> <td>    1.969</td> <td> 0.049</td> <td>    0.004</td> <td>    1.834</td>\n",
       "</tr>\n",
       "<tr>\n",
       "  <th>sigma2</th>    <td> 1.126e+10</td> <td>    0.317</td> <td> 3.55e+10</td> <td> 0.000</td> <td> 1.13e+10</td> <td> 1.13e+10</td>\n",
       "</tr>\n",
       "</table>\n",
       "<table class=\"simpletable\">\n",
       "<tr>\n",
       "  <th>Ljung-Box (Q):</th>          <td>7.50</td> <th>  Jarque-Bera (JB):  </th> <td>0.38</td> \n",
       "</tr>\n",
       "<tr>\n",
       "  <th>Prob(Q):</th>                <td>0.76</td> <th>  Prob(JB):          </th> <td>0.83</td> \n",
       "</tr>\n",
       "<tr>\n",
       "  <th>Heteroskedasticity (H):</th> <td>0.47</td> <th>  Skew:              </th> <td>-0.30</td>\n",
       "</tr>\n",
       "<tr>\n",
       "  <th>Prob(H) (two-sided):</th>    <td>0.49</td> <th>  Kurtosis:          </th> <td>2.38</td> \n",
       "</tr>\n",
       "</table><br/><br/>Warnings:<br/>[1] Covariance matrix calculated using the outer product of gradients (complex-step).<br/>[2] Covariance matrix is singular or near-singular, with condition number 6.34e+30. Standard errors may be unstable."
      ],
      "text/plain": [
       "<class 'statsmodels.iolib.summary.Summary'>\n",
       "\"\"\"\n",
       "                               SARIMAX Results                                \n",
       "==============================================================================\n",
       "Dep. Variable:                      y   No. Observations:                   12\n",
       "Model:               SARIMAX(0, 0, 1)   Log Likelihood                -155.576\n",
       "Date:                Thu, 06 Jan 2022   AIC                            317.152\n",
       "Time:                        21:04:25   BIC                            318.607\n",
       "Sample:                             0   HQIC                           316.614\n",
       "                                 - 12                                         \n",
       "Covariance Type:                  opg                                         \n",
       "==============================================================================\n",
       "                 coef    std err          z      P>|z|      [0.025      0.975]\n",
       "------------------------------------------------------------------------------\n",
       "intercept   5.597e+05   6.69e+04      8.369      0.000    4.29e+05    6.91e+05\n",
       "ma.L1          0.9194      0.467      1.969      0.049       0.004       1.834\n",
       "sigma2      1.126e+10      0.317   3.55e+10      0.000    1.13e+10    1.13e+10\n",
       "===================================================================================\n",
       "Ljung-Box (Q):                        7.50   Jarque-Bera (JB):                 0.38\n",
       "Prob(Q):                              0.76   Prob(JB):                         0.83\n",
       "Heteroskedasticity (H):               0.47   Skew:                            -0.30\n",
       "Prob(H) (two-sided):                  0.49   Kurtosis:                         2.38\n",
       "===================================================================================\n",
       "\n",
       "Warnings:\n",
       "[1] Covariance matrix calculated using the outer product of gradients (complex-step).\n",
       "[2] Covariance matrix is singular or near-singular, with condition number 6.34e+30. Standard errors may be unstable.\n",
       "\"\"\""
      ]
     },
     "execution_count": 48,
     "metadata": {},
     "output_type": "execute_result"
    }
   ],
   "source": [
    "stepwise_fit=auto_arima(Sale['Sales'],trace=True,suppress_warnings=True)\n",
    "stepwise_fit.summary()"
   ]
  },
  {
   "cell_type": "code",
   "execution_count": 49,
   "metadata": {},
   "outputs": [],
   "source": [
    "from statsmodels.tsa.arima_model import ARIMA"
   ]
  },
  {
   "cell_type": "code",
   "execution_count": 50,
   "metadata": {},
   "outputs": [
    {
     "data": {
      "text/html": [
       "<div>\n",
       "<style scoped>\n",
       "    .dataframe tbody tr th:only-of-type {\n",
       "        vertical-align: middle;\n",
       "    }\n",
       "\n",
       "    .dataframe tbody tr th {\n",
       "        vertical-align: top;\n",
       "    }\n",
       "\n",
       "    .dataframe thead th {\n",
       "        text-align: right;\n",
       "    }\n",
       "</style>\n",
       "<table border=\"1\" class=\"dataframe\">\n",
       "  <thead>\n",
       "    <tr style=\"text-align: right;\">\n",
       "      <th></th>\n",
       "      <th>Sales</th>\n",
       "    </tr>\n",
       "    <tr>\n",
       "      <th>Date</th>\n",
       "      <th></th>\n",
       "    </tr>\n",
       "  </thead>\n",
       "  <tbody>\n",
       "    <tr>\n",
       "      <th>01/12/2021</th>\n",
       "      <td>586972.0</td>\n",
       "    </tr>\n",
       "  </tbody>\n",
       "</table>\n",
       "</div>"
      ],
      "text/plain": [
       "               Sales\n",
       "Date                \n",
       "01/12/2021  586972.0"
      ]
     },
     "execution_count": 50,
     "metadata": {},
     "output_type": "execute_result"
    }
   ],
   "source": [
    "train=Sale.iloc[0:11]\n",
    "test=Sale.iloc[11:12]\n",
    "test"
   ]
  },
  {
   "cell_type": "code",
   "execution_count": 51,
   "metadata": {},
   "outputs": [],
   "source": [
    "model=ARIMA(train['Sales'],order=(0,0,1))\n",
    "model_fit=model.fit(disp=0)\n"
   ]
  },
  {
   "cell_type": "code",
   "execution_count": 52,
   "metadata": {},
   "outputs": [
    {
     "name": "stdout",
     "output_type": "stream",
     "text": [
      "Date\n",
      "01/09/2021    590772.411897\n",
      "01/10/2021    672660.070708\n",
      "01/11/2021    567532.913499\n",
      "01/12/2021    563994.424332\n",
      "dtype: float64\n"
     ]
    }
   ],
   "source": [
    "pred=model_fit.predict(start='01/09/2021',end='01/12/2021')\n",
    "pred.index=Sale.index[8:12]\n",
    "print(pred)"
   ]
  },
  {
   "cell_type": "code",
   "execution_count": 53,
   "metadata": {},
   "outputs": [
    {
     "data": {
      "text/html": [
       "<div>\n",
       "<style scoped>\n",
       "    .dataframe tbody tr th:only-of-type {\n",
       "        vertical-align: middle;\n",
       "    }\n",
       "\n",
       "    .dataframe tbody tr th {\n",
       "        vertical-align: top;\n",
       "    }\n",
       "\n",
       "    .dataframe thead th {\n",
       "        text-align: right;\n",
       "    }\n",
       "</style>\n",
       "<table border=\"1\" class=\"dataframe\">\n",
       "  <thead>\n",
       "    <tr style=\"text-align: right;\">\n",
       "      <th></th>\n",
       "      <th>Sales</th>\n",
       "    </tr>\n",
       "    <tr>\n",
       "      <th>Date</th>\n",
       "      <th></th>\n",
       "    </tr>\n",
       "  </thead>\n",
       "  <tbody>\n",
       "    <tr>\n",
       "      <th>01/01/2021</th>\n",
       "      <td>570881.0</td>\n",
       "    </tr>\n",
       "    <tr>\n",
       "      <th>01/02/2021</th>\n",
       "      <td>339843.0</td>\n",
       "    </tr>\n",
       "    <tr>\n",
       "      <th>01/03/2021</th>\n",
       "      <td>299564.0</td>\n",
       "    </tr>\n",
       "    <tr>\n",
       "      <th>01/04/2021</th>\n",
       "      <td>443315.0</td>\n",
       "    </tr>\n",
       "    <tr>\n",
       "      <th>01/05/2021</th>\n",
       "      <td>457616.0</td>\n",
       "    </tr>\n",
       "    <tr>\n",
       "      <th>01/06/2021</th>\n",
       "      <td>576618.0</td>\n",
       "    </tr>\n",
       "    <tr>\n",
       "      <th>01/07/2021</th>\n",
       "      <td>463216.0</td>\n",
       "    </tr>\n",
       "    <tr>\n",
       "      <th>01/08/2021</th>\n",
       "      <td>472102.0</td>\n",
       "    </tr>\n",
       "    <tr>\n",
       "      <th>01/09/2021</th>\n",
       "      <td>754251.0</td>\n",
       "    </tr>\n",
       "    <tr>\n",
       "      <th>01/10/2021</th>\n",
       "      <td>718864.0</td>\n",
       "    </tr>\n",
       "    <tr>\n",
       "      <th>01/11/2021</th>\n",
       "      <td>605998.0</td>\n",
       "    </tr>\n",
       "    <tr>\n",
       "      <th>01/12/2021</th>\n",
       "      <td>586972.0</td>\n",
       "    </tr>\n",
       "  </tbody>\n",
       "</table>\n",
       "</div>"
      ],
      "text/plain": [
       "               Sales\n",
       "Date                \n",
       "01/01/2021  570881.0\n",
       "01/02/2021  339843.0\n",
       "01/03/2021  299564.0\n",
       "01/04/2021  443315.0\n",
       "01/05/2021  457616.0\n",
       "01/06/2021  576618.0\n",
       "01/07/2021  463216.0\n",
       "01/08/2021  472102.0\n",
       "01/09/2021  754251.0\n",
       "01/10/2021  718864.0\n",
       "01/11/2021  605998.0\n",
       "01/12/2021  586972.0"
      ]
     },
     "execution_count": 53,
     "metadata": {},
     "output_type": "execute_result"
    }
   ],
   "source": [
    "Sale"
   ]
  },
  {
   "cell_type": "code",
   "execution_count": 54,
   "metadata": {},
   "outputs": [],
   "source": [
    "model=ARIMA(Sale['Sales'],order=(0,0,1))\n",
    "model_fit=model.fit(disp=0)\n",
    "pred=model_fit.forecast(steps=1)[0]"
   ]
  },
  {
   "cell_type": "code",
   "execution_count": 56,
   "metadata": {},
   "outputs": [
    {
     "data": {
      "text/plain": [
       "array([548991.92357364])"
      ]
     },
     "execution_count": 56,
     "metadata": {},
     "output_type": "execute_result"
    }
   ],
   "source": [
    "pred"
   ]
  },
  {
   "cell_type": "markdown",
   "metadata": {},
   "source": [
    "WITHOUT STRONG SEASONALITY ITS HARD TO PREDICT FUTURE VALUES"
   ]
  },
  {
   "cell_type": "code",
   "execution_count": null,
   "metadata": {},
   "outputs": [],
   "source": []
  }
 ],
 "metadata": {
  "kernelspec": {
   "display_name": "Python 3",
   "language": "python",
   "name": "python3"
  },
  "language_info": {
   "codemirror_mode": {
    "name": "ipython",
    "version": 3
   },
   "file_extension": ".py",
   "mimetype": "text/x-python",
   "name": "python",
   "nbconvert_exporter": "python",
   "pygments_lexer": "ipython3",
   "version": "3.7.4"
  }
 },
 "nbformat": 4,
 "nbformat_minor": 2
}
